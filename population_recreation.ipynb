{
 "cells": [
  {
   "cell_type": "markdown",
   "metadata": {},
   "source": [
    "# Creating a test data set with similar properties as an original population"
   ]
  },
  {
   "cell_type": "code",
   "execution_count": 1,
   "metadata": {},
   "outputs": [],
   "source": [
    "import numpy as np\n",
    "import pandas as pd\n",
    "import pprint\n",
    "import random\n",
    "random.seed(42)"
   ]
  },
  {
   "cell_type": "markdown",
   "metadata": {},
   "source": [
    "## Create the original population\n",
    "Each individual has four properties:\n",
    "- age (numeric)\n",
    "- civil_status (categorical)\n",
    "- personal_status (categorical)\n",
    "- pays_taxes (boolean)\n",
    "\n",
    "These properties are assigned independently and in a random fashion. The status fields have the following values with their fractions in the whole population (unconditional probabilities) -- just some arbitrary values to initialize the data). Note that the assigned \"probabilities\" do not actually have to sum up to 1, they will be normalized by the `get_random_status` function; in this way they can also just be counts in the population. This will come in handy later on."
   ]
  },
  {
   "cell_type": "code",
   "execution_count": 2,
   "metadata": {},
   "outputs": [],
   "source": [
    "civil_status_values = {0: 0.3, 1: 0.2, 2: 0.5}\n",
    "personal_status_values = {0: 1, 1: 3, 2: 2, 3: 4}"
   ]
  },
  {
   "cell_type": "markdown",
   "metadata": {},
   "source": [
    "We need a function that allows us to randomly assign status values according to given probabilities; in the initial population these probabilities are given by the fractions that we specified above."
   ]
  },
  {
   "cell_type": "code",
   "execution_count": 3,
   "metadata": {},
   "outputs": [
    {
     "name": "stdout",
     "output_type": "stream",
     "text": [
      "{0: 45, 1: 75}\n"
     ]
    }
   ],
   "source": [
    "def get_random_status(status_values):\n",
    "    status = list(status_values.keys())\n",
    "    prob = np.array([0.0] + list(status_values.values()))\n",
    "    prob /= sum(prob) # normalize, so that the last entry of the cumsum will be 1, the range of random\n",
    "    prob_sum = np.cumsum(prob)\n",
    "    return status[np.searchsorted(prob_sum, random.random()) - 1]\n",
    "# test the function; note that due to random input the result will not always be exactly 40:80\n",
    "tst = {0: 0, 1: 0} # initialize to zero, then add in loop for count of each value\n",
    "for i in range(120):\n",
    "    tst[get_random_status({0: 33, 1: 67})] += 1\n",
    "print(tst)"
   ]
  },
  {
   "cell_type": "code",
   "execution_count": 4,
   "metadata": {},
   "outputs": [
    {
     "data": {
      "text/html": [
       "<div>\n",
       "<style scoped>\n",
       "    .dataframe tbody tr th:only-of-type {\n",
       "        vertical-align: middle;\n",
       "    }\n",
       "\n",
       "    .dataframe tbody tr th {\n",
       "        vertical-align: top;\n",
       "    }\n",
       "\n",
       "    .dataframe thead th {\n",
       "        text-align: right;\n",
       "    }\n",
       "</style>\n",
       "<table border=\"1\" class=\"dataframe\">\n",
       "  <thead>\n",
       "    <tr style=\"text-align: right;\">\n",
       "      <th></th>\n",
       "      <th>age</th>\n",
       "      <th>civil_status</th>\n",
       "      <th>pays_taxes</th>\n",
       "      <th>personal_status</th>\n",
       "    </tr>\n",
       "  </thead>\n",
       "  <tbody>\n",
       "    <tr>\n",
       "      <th>count</th>\n",
       "      <td>12375.000000</td>\n",
       "      <td>12375.000000</td>\n",
       "      <td>12375.000000</td>\n",
       "      <td>12375.000000</td>\n",
       "    </tr>\n",
       "    <tr>\n",
       "      <th>mean</th>\n",
       "      <td>31.971879</td>\n",
       "      <td>1.205657</td>\n",
       "      <td>0.577616</td>\n",
       "      <td>1.899313</td>\n",
       "    </tr>\n",
       "    <tr>\n",
       "      <th>std</th>\n",
       "      <td>7.250534</td>\n",
       "      <td>0.870451</td>\n",
       "      <td>0.493959</td>\n",
       "      <td>1.043368</td>\n",
       "    </tr>\n",
       "    <tr>\n",
       "      <th>min</th>\n",
       "      <td>4.000000</td>\n",
       "      <td>0.000000</td>\n",
       "      <td>0.000000</td>\n",
       "      <td>0.000000</td>\n",
       "    </tr>\n",
       "    <tr>\n",
       "      <th>25%</th>\n",
       "      <td>27.000000</td>\n",
       "      <td>0.000000</td>\n",
       "      <td>0.000000</td>\n",
       "      <td>1.000000</td>\n",
       "    </tr>\n",
       "    <tr>\n",
       "      <th>50%</th>\n",
       "      <td>32.000000</td>\n",
       "      <td>2.000000</td>\n",
       "      <td>1.000000</td>\n",
       "      <td>2.000000</td>\n",
       "    </tr>\n",
       "    <tr>\n",
       "      <th>75%</th>\n",
       "      <td>37.000000</td>\n",
       "      <td>2.000000</td>\n",
       "      <td>1.000000</td>\n",
       "      <td>3.000000</td>\n",
       "    </tr>\n",
       "    <tr>\n",
       "      <th>max</th>\n",
       "      <td>58.000000</td>\n",
       "      <td>2.000000</td>\n",
       "      <td>1.000000</td>\n",
       "      <td>3.000000</td>\n",
       "    </tr>\n",
       "  </tbody>\n",
       "</table>\n",
       "</div>"
      ],
      "text/plain": [
       "                age  civil_status    pays_taxes  personal_status\n",
       "count  12375.000000  12375.000000  12375.000000     12375.000000\n",
       "mean      31.971879      1.205657      0.577616         1.899313\n",
       "std        7.250534      0.870451      0.493959         1.043368\n",
       "min        4.000000      0.000000      0.000000         0.000000\n",
       "25%       27.000000      0.000000      0.000000         1.000000\n",
       "50%       32.000000      2.000000      1.000000         2.000000\n",
       "75%       37.000000      2.000000      1.000000         3.000000\n",
       "max       58.000000      2.000000      1.000000         3.000000"
      ]
     },
     "execution_count": 4,
     "metadata": {},
     "output_type": "execute_result"
    }
   ],
   "source": [
    "population_size = 12375\n",
    "population = []\n",
    "for i in range(population_size):\n",
    "    population.append({\n",
    "        'age': max(1, int(random.gauss(mu=32.5, sigma=7.2))),\n",
    "        'civil_status': get_random_status(civil_status_values),\n",
    "        'personal_status': get_random_status(personal_status_values),\n",
    "        'pays_taxes': int(random.random() < 0.57)\n",
    "        })\n",
    "df_population = pd.DataFrame(population)\n",
    "df_population.describe()"
   ]
  },
  {
   "cell_type": "markdown",
   "metadata": {},
   "source": [
    "## Analyze the original population\n",
    "From now on, the above `population` is the \"truth\" and the task is to create a synthetic population (of a different size) that statistically resembles the original one.\n",
    "\n",
    "We do this by defining a tree with one of the \"features\" of each person at every level. Then we find the conditional probabilities for each branch. The ordering of the features is arbitrary. For example:\n",
    "\n",
    "                                     person\n",
    "                                        |\n",
    "                    --------------  pays_taxes  -----------------\n",
    "                    |                                           |\n",
    "                 1=True ()                                   0=False ()\n",
    "                    |                                           |\n",
    "        ------ civil_status ------                  ------ civil_status ------\n",
    "        |           |            |                  |           |            |\n",
    "       0 ()        1 ()         2 ()               0 ()        1 ()         2 ()\n",
    "\n",
    "Below this level, the `person_status` would be the next level of branches. The parenthesis represent the conditional probabilities, e.g. for `civil_status` being `0/1/2` _given that_ `pays_taxes = True`.\n",
    "\n",
    "Note that in our sample population, the different properties were assigned independent of each other; therefore the conditional probabilities for `civil_status` in the `True` branch will only differ marginally from those in the `False` branch.\n",
    "\n",
    "But first we find the probabilities for the first property, `pays_taxes`:"
   ]
  },
  {
   "cell_type": "code",
   "execution_count": 5,
   "metadata": {},
   "outputs": [
    {
     "name": "stdout",
     "output_type": "stream",
     "text": [
      "{0: 5227, 1: 7148}\n"
     ]
    }
   ],
   "source": [
    "pop__pays_taxes = dict(df_population.groupby('pays_taxes')['pays_taxes'].count())\n",
    "print(pop__pays_taxes) "
   ]
  },
  {
   "cell_type": "markdown",
   "metadata": {},
   "source": [
    "Now we look at the `civil_status` in each branch under `pays_taxes`:"
   ]
  },
  {
   "cell_type": "code",
   "execution_count": 6,
   "metadata": {},
   "outputs": [],
   "source": [
    "pop = {}\n",
    "pop['pays_taxes'] = {}\n",
    "for pt in [0, 1]:\n",
    "    tmp = dict(df_population[df_population.pays_taxes == pt].groupby(\n",
    "                   'civil_status')['civil_status'].count())\n",
    "    pop['pays_taxes'][pt] = {\n",
    "        'count': pop__pays_taxes[pt],\n",
    "        'civil_status': {k: {'count': v, 'personal_status': {}} for k, v in tmp.items()}\n",
    "    }"
   ]
  },
  {
   "cell_type": "code",
   "execution_count": 7,
   "metadata": {},
   "outputs": [
    {
     "name": "stdout",
     "output_type": "stream",
     "text": [
      "{'pays_taxes': {0: {'civil_status': {0: {'count': 1549, 'personal_status': {}},\n",
      "                                     1: {'count': 1063, 'personal_status': {}},\n",
      "                                     2: {'count': 2615, 'personal_status': {}}},\n",
      "                    'count': 5227},\n",
      "                1: {'civil_status': {0: {'count': 2128, 'personal_status': {}},\n",
      "                                     1: {'count': 1413, 'personal_status': {}},\n",
      "                                     2: {'count': 3607, 'personal_status': {}}},\n",
      "                    'count': 7148}}}\n"
     ]
    }
   ],
   "source": [
    "pprint.pprint(pop)"
   ]
  },
  {
   "cell_type": "markdown",
   "metadata": {},
   "source": [
    "We can see that the `count` values for `civil_status` being `0/1/2` add up to the `count` value in the next higher branch, of `pays_taxes`. It would be easy to transform everything to probabilities, but it's not necessary given that the function `get_random_status` can work with counts.\n",
    "\n",
    "Let's add one more layer."
   ]
  },
  {
   "cell_type": "code",
   "execution_count": 17,
   "metadata": {},
   "outputs": [],
   "source": [
    "for pt in [0, 1]:\n",
    "    for cs in civil_status_values.keys():\n",
    "        # Note: We restrict the population to one combination of pays_taxes and civil_status at a\n",
    "        #       time and then group by the personal_status. In this way we effectively find\n",
    "        #       conditional probabilities like \n",
    "        #       P(personal_status==x | pays_taxes==pt && civil_status == cs)\n",
    "        #       just that we record them as counts (which always sum up to the one at the next higher\n",
    "        #       level rather than to 1).\n",
    "        tmp = dict(df_population[(df_population.pays_taxes == pt)&\n",
    "                                 (df_population.civil_status == cs)].groupby(\n",
    "                   'personal_status')['personal_status'].count())\n",
    "        pop['pays_taxes'][pt]['civil_status'][cs]['personal_status'] = {\n",
    "            k: {'count': v, 'age': {}} for k, v in tmp.items()}"
   ]
  },
  {
   "cell_type": "code",
   "execution_count": 18,
   "metadata": {},
   "outputs": [
    {
     "name": "stdout",
     "output_type": "stream",
     "text": [
      "{'pays_taxes': {0: {'civil_status': {0: {'count': 1549,\n",
      "                                         'personal_status': {0: {'age': {},\n",
      "                                                                 'count': 166},\n",
      "                                                             1: {'age': {},\n",
      "                                                                 'count': 478},\n",
      "                                                             2: {'age': {},\n",
      "                                                                 'count': 291},\n",
      "                                                             3: {'age': {},\n",
      "                                                                 'count': 614}}},\n",
      "                                     1: {'count': 1063,\n",
      "                                         'personal_status': {0: {'age': {},\n",
      "                                                                 'count': 118},\n",
      "                                                             1: {'age': {},\n",
      "                                                                 'count': 311},\n",
      "                                                             2: {'age': {},\n",
      "                                                                 'count': 212},\n",
      "                                                             3: {'age': {},\n",
      "                                                                 'count': 422}}},\n",
      "                                     2: {'count': 2615,\n",
      "                                         'personal_status': {0: {'age': {},\n",
      "                                                                 'count': 250},\n",
      "                                                             1: {'age': {},\n",
      "                                                                 'count': 816},\n",
      "                                                             2: {'age': {},\n",
      "                                                                 'count': 530},\n",
      "                                                             3: {'age': {},\n",
      "                                                                 'count': 1019}}}},\n",
      "                    'count': 5227},\n",
      "                1: {'civil_status': {0: {'count': 2128,\n",
      "                                         'personal_status': {0: {'age': {},\n",
      "                                                                 'count': 227},\n",
      "                                                             1: {'age': {},\n",
      "                                                                 'count': 639},\n",
      "                                                             2: {'age': {},\n",
      "                                                                 'count': 428},\n",
      "                                                             3: {'age': {},\n",
      "                                                                 'count': 834}}},\n",
      "                                     1: {'count': 1413,\n",
      "                                         'personal_status': {0: {'age': {},\n",
      "                                                                 'count': 131},\n",
      "                                                             1: {'age': {},\n",
      "                                                                 'count': 418},\n",
      "                                                             2: {'age': {},\n",
      "                                                                 'count': 292},\n",
      "                                                             3: {'age': {},\n",
      "                                                                 'count': 572}}},\n",
      "                                     2: {'count': 3607,\n",
      "                                         'personal_status': {0: {'age': {},\n",
      "                                                                 'count': 350},\n",
      "                                                             1: {'age': {},\n",
      "                                                                 'count': 1033},\n",
      "                                                             2: {'age': {},\n",
      "                                                                 'count': 752},\n",
      "                                                             3: {'age': {},\n",
      "                                                                 'count': 1472}}}},\n",
      "                    'count': 7148}}}\n"
     ]
    }
   ],
   "source": [
    "pprint.pprint(pop)"
   ]
  },
  {
   "cell_type": "markdown",
   "metadata": {},
   "source": [
    "Since the age is stored as `int` one can in principle use the same procedure to fill in the `age` branches -- there will be one category for each age in years, and at this level of detail there are still hundreds of persons in each leaf. If there are too few (e.g. if many more branching levels are used) then one should possible derive an age distribution per leaf and work with that.\n",
    "\n",
    "But how can we use the above to create a synthetic data set?\n",
    "\n",
    "## Synthesize a similar population"
   ]
  },
  {
   "cell_type": "code",
   "execution_count": 19,
   "metadata": {},
   "outputs": [],
   "source": [
    "synthetic_population_size = int(population_size / 3)"
   ]
  },
  {
   "cell_type": "code",
   "execution_count": 22,
   "metadata": {},
   "outputs": [
    {
     "data": {
      "text/html": [
       "<div>\n",
       "<style scoped>\n",
       "    .dataframe tbody tr th:only-of-type {\n",
       "        vertical-align: middle;\n",
       "    }\n",
       "\n",
       "    .dataframe tbody tr th {\n",
       "        vertical-align: top;\n",
       "    }\n",
       "\n",
       "    .dataframe thead th {\n",
       "        text-align: right;\n",
       "    }\n",
       "</style>\n",
       "<table border=\"1\" class=\"dataframe\">\n",
       "  <thead>\n",
       "    <tr style=\"text-align: right;\">\n",
       "      <th></th>\n",
       "      <th>age</th>\n",
       "      <th>civil_status</th>\n",
       "      <th>pays_taxes</th>\n",
       "      <th>personal_status</th>\n",
       "    </tr>\n",
       "  </thead>\n",
       "  <tbody>\n",
       "    <tr>\n",
       "      <th>count</th>\n",
       "      <td>4125.0</td>\n",
       "      <td>4125.000000</td>\n",
       "      <td>4125.000000</td>\n",
       "      <td>4125.000000</td>\n",
       "    </tr>\n",
       "    <tr>\n",
       "      <th>mean</th>\n",
       "      <td>0.0</td>\n",
       "      <td>1.222545</td>\n",
       "      <td>0.572121</td>\n",
       "      <td>1.887030</td>\n",
       "    </tr>\n",
       "    <tr>\n",
       "      <th>std</th>\n",
       "      <td>0.0</td>\n",
       "      <td>0.864442</td>\n",
       "      <td>0.494831</td>\n",
       "      <td>1.041496</td>\n",
       "    </tr>\n",
       "    <tr>\n",
       "      <th>min</th>\n",
       "      <td>0.0</td>\n",
       "      <td>0.000000</td>\n",
       "      <td>0.000000</td>\n",
       "      <td>0.000000</td>\n",
       "    </tr>\n",
       "    <tr>\n",
       "      <th>50%</th>\n",
       "      <td>0.0</td>\n",
       "      <td>2.000000</td>\n",
       "      <td>1.000000</td>\n",
       "      <td>2.000000</td>\n",
       "    </tr>\n",
       "    <tr>\n",
       "      <th>max</th>\n",
       "      <td>0.0</td>\n",
       "      <td>2.000000</td>\n",
       "      <td>1.000000</td>\n",
       "      <td>3.000000</td>\n",
       "    </tr>\n",
       "  </tbody>\n",
       "</table>\n",
       "</div>"
      ],
      "text/plain": [
       "          age  civil_status   pays_taxes  personal_status\n",
       "count  4125.0   4125.000000  4125.000000      4125.000000\n",
       "mean      0.0      1.222545     0.572121         1.887030\n",
       "std       0.0      0.864442     0.494831         1.041496\n",
       "min       0.0      0.000000     0.000000         0.000000\n",
       "50%       0.0      2.000000     1.000000         2.000000\n",
       "max       0.0      2.000000     1.000000         3.000000"
      ]
     },
     "execution_count": 22,
     "metadata": {},
     "output_type": "execute_result"
    }
   ],
   "source": [
    "df_synthetic = pd.DataFrame(np.zeros((synthetic_population_size, 4)), columns=df_population.columns)\n",
    "for i in range(synthetic_population_size):\n",
    "    # In assigning the values of an artificial persion, we have to follow the branching sequence\n",
    "    # of our tree:\n",
    "    df_synthetic.loc[i, 'pays_taxes'] = get_random_status(\n",
    "        { pt: pop['pays_taxes'][pt]['count'] for pt in [0, 1]} )\n",
    "\n",
    "    # For the next property, we have to use the counts (probabilities) in the appropriate branch\n",
    "    # below pays_taxes, based on the value found above.\n",
    "    df_synthetic.loc[i, 'civil_status'] = get_random_status(\n",
    "        {cs: pop['pays_taxes'][df_synthetic.loc[i, 'pays_taxes']]['civil_status'][cs]['count']\n",
    "         for cs in civil_status_values.keys()})\n",
    "\n",
    "    # And finally, yet another layer deeper in the data structure for personal_status.\n",
    "    df_synthetic.loc[i, 'personal_status'] = get_random_status(\n",
    "        {ps: pop['pays_taxes'][df_synthetic.loc[i, 'pays_taxes']]\n",
    "                ['civil_status'][df_synthetic.loc[i, 'civil_status']]\n",
    "                ['personal_status'][ps]['count']\n",
    "         for ps in personal_status_values.keys()})\n",
    "    \n",
    "df_synthetic.describe(percentiles=[])"
   ]
  },
  {
   "cell_type": "code",
   "execution_count": 23,
   "metadata": {},
   "outputs": [
    {
     "data": {
      "text/html": [
       "<div>\n",
       "<style scoped>\n",
       "    .dataframe tbody tr th:only-of-type {\n",
       "        vertical-align: middle;\n",
       "    }\n",
       "\n",
       "    .dataframe tbody tr th {\n",
       "        vertical-align: top;\n",
       "    }\n",
       "\n",
       "    .dataframe thead th {\n",
       "        text-align: right;\n",
       "    }\n",
       "</style>\n",
       "<table border=\"1\" class=\"dataframe\">\n",
       "  <thead>\n",
       "    <tr style=\"text-align: right;\">\n",
       "      <th></th>\n",
       "      <th>age</th>\n",
       "      <th>civil_status</th>\n",
       "      <th>pays_taxes</th>\n",
       "      <th>personal_status</th>\n",
       "    </tr>\n",
       "  </thead>\n",
       "  <tbody>\n",
       "    <tr>\n",
       "      <th>count</th>\n",
       "      <td>12375.000000</td>\n",
       "      <td>12375.000000</td>\n",
       "      <td>12375.000000</td>\n",
       "      <td>12375.000000</td>\n",
       "    </tr>\n",
       "    <tr>\n",
       "      <th>mean</th>\n",
       "      <td>31.971879</td>\n",
       "      <td>1.205657</td>\n",
       "      <td>0.577616</td>\n",
       "      <td>1.899313</td>\n",
       "    </tr>\n",
       "    <tr>\n",
       "      <th>std</th>\n",
       "      <td>7.250534</td>\n",
       "      <td>0.870451</td>\n",
       "      <td>0.493959</td>\n",
       "      <td>1.043368</td>\n",
       "    </tr>\n",
       "    <tr>\n",
       "      <th>min</th>\n",
       "      <td>4.000000</td>\n",
       "      <td>0.000000</td>\n",
       "      <td>0.000000</td>\n",
       "      <td>0.000000</td>\n",
       "    </tr>\n",
       "    <tr>\n",
       "      <th>50%</th>\n",
       "      <td>32.000000</td>\n",
       "      <td>2.000000</td>\n",
       "      <td>1.000000</td>\n",
       "      <td>2.000000</td>\n",
       "    </tr>\n",
       "    <tr>\n",
       "      <th>max</th>\n",
       "      <td>58.000000</td>\n",
       "      <td>2.000000</td>\n",
       "      <td>1.000000</td>\n",
       "      <td>3.000000</td>\n",
       "    </tr>\n",
       "  </tbody>\n",
       "</table>\n",
       "</div>"
      ],
      "text/plain": [
       "                age  civil_status    pays_taxes  personal_status\n",
       "count  12375.000000  12375.000000  12375.000000     12375.000000\n",
       "mean      31.971879      1.205657      0.577616         1.899313\n",
       "std        7.250534      0.870451      0.493959         1.043368\n",
       "min        4.000000      0.000000      0.000000         0.000000\n",
       "50%       32.000000      2.000000      1.000000         2.000000\n",
       "max       58.000000      2.000000      1.000000         3.000000"
      ]
     },
     "execution_count": 23,
     "metadata": {},
     "output_type": "execute_result"
    }
   ],
   "source": [
    "df_population.describe(percentiles=[]) # for comparison: the original population;\n",
    "                                       # compare the mean and std; age has not been set"
   ]
  },
  {
   "cell_type": "code",
   "execution_count": null,
   "metadata": {},
   "outputs": [],
   "source": []
  }
 ],
 "metadata": {
  "kernelspec": {
   "display_name": "Python [default]",
   "language": "python",
   "name": "python3"
  },
  "language_info": {
   "codemirror_mode": {
    "name": "ipython",
    "version": 3
   },
   "file_extension": ".py",
   "mimetype": "text/x-python",
   "name": "python",
   "nbconvert_exporter": "python",
   "pygments_lexer": "ipython3",
   "version": "3.6.4"
  }
 },
 "nbformat": 4,
 "nbformat_minor": 2
}
